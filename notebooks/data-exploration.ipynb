{
 "cells": [
  {
   "cell_type": "code",
   "execution_count": 16,
   "id": "23ecb22d-63d4-423f-98c1-0e968c707016",
   "metadata": {},
   "outputs": [
    {
     "name": "stdout",
     "output_type": "stream",
     "text": [
      "The kedro.ipython extension is already loaded. To reload it, use:\n",
      "  %reload_ext kedro.ipython\n"
     ]
    }
   ],
   "source": [
    "%load_ext kedro.ipython"
   ]
  },
  {
   "cell_type": "code",
   "execution_count": 17,
   "id": "ea7a790e",
   "metadata": {},
   "outputs": [
    {
     "data": {
      "text/html": [
       "<pre style=\"white-space:pre;overflow-x:auto;line-height:normal;font-family:Menlo,'DejaVu Sans Mono',consolas,'Courier New',monospace\"><span style=\"color: #7fbfbf; text-decoration-color: #7fbfbf\">[03/18/24 09:12:19] </span><span style=\"color: #000080; text-decoration-color: #000080\">INFO    </span> Loading data from <span style=\"color: #ff8700; text-decoration-color: #ff8700\">companies</span> <span style=\"font-weight: bold\">(</span>CSVDataset<span style=\"font-weight: bold\">)</span><span style=\"color: #808000; text-decoration-color: #808000\">...</span>                        <a href=\"file://c:\\Users\\daniel.manabat\\Work\\side-projects\\.venv\\Lib\\site-packages\\kedro\\io\\data_catalog.py\" target=\"_blank\"><span style=\"color: #7f7f7f; text-decoration-color: #7f7f7f\">data_catalog.py</span></a><span style=\"color: #7f7f7f; text-decoration-color: #7f7f7f\">:</span><a href=\"file://c:\\Users\\daniel.manabat\\Work\\side-projects\\.venv\\Lib\\site-packages\\kedro\\io\\data_catalog.py#483\" target=\"_blank\"><span style=\"color: #7f7f7f; text-decoration-color: #7f7f7f\">483</span></a>\n",
       "</pre>\n"
      ],
      "text/plain": [
       "\u001b[2;36m[03/18/24 09:12:19]\u001b[0m\u001b[2;36m \u001b[0m\u001b[34mINFO    \u001b[0m Loading data from \u001b[38;5;208mcompanies\u001b[0m \u001b[1m(\u001b[0mCSVDataset\u001b[1m)\u001b[0m\u001b[33m...\u001b[0m                        \u001b]8;id=189257;file://c:\\Users\\daniel.manabat\\Work\\side-projects\\.venv\\Lib\\site-packages\\kedro\\io\\data_catalog.py\u001b\\\u001b[2mdata_catalog.py\u001b[0m\u001b]8;;\u001b\\\u001b[2m:\u001b[0m\u001b]8;id=256459;file://c:\\Users\\daniel.manabat\\Work\\side-projects\\.venv\\Lib\\site-packages\\kedro\\io\\data_catalog.py#483\u001b\\\u001b[2m483\u001b[0m\u001b]8;;\u001b\\\n"
      ]
     },
     "metadata": {},
     "output_type": "display_data"
    },
    {
     "data": {
      "text/html": [
       "<pre style=\"white-space:pre;overflow-x:auto;line-height:normal;font-family:Menlo,'DejaVu Sans Mono',consolas,'Courier New',monospace\"></pre>\n"
      ],
      "text/plain": []
     },
     "metadata": {},
     "output_type": "display_data"
    },
    {
     "data": {
      "text/html": [
       "<div>\n",
       "<style scoped>\n",
       "    .dataframe tbody tr th:only-of-type {\n",
       "        vertical-align: middle;\n",
       "    }\n",
       "\n",
       "    .dataframe tbody tr th {\n",
       "        vertical-align: top;\n",
       "    }\n",
       "\n",
       "    .dataframe thead th {\n",
       "        text-align: right;\n",
       "    }\n",
       "</style>\n",
       "<table border=\"1\" class=\"dataframe\">\n",
       "  <thead>\n",
       "    <tr style=\"text-align: right;\">\n",
       "      <th></th>\n",
       "      <th>id</th>\n",
       "      <th>company_rating</th>\n",
       "      <th>company_location</th>\n",
       "      <th>total_fleet_count</th>\n",
       "      <th>iata_approved</th>\n",
       "    </tr>\n",
       "  </thead>\n",
       "  <tbody>\n",
       "    <tr>\n",
       "      <th>0</th>\n",
       "      <td>3888</td>\n",
       "      <td>100%</td>\n",
       "      <td>Isle of Man</td>\n",
       "      <td>1.0</td>\n",
       "      <td>f</td>\n",
       "    </tr>\n",
       "    <tr>\n",
       "      <th>1</th>\n",
       "      <td>46728</td>\n",
       "      <td>100%</td>\n",
       "      <td>NaN</td>\n",
       "      <td>1.0</td>\n",
       "      <td>f</td>\n",
       "    </tr>\n",
       "    <tr>\n",
       "      <th>2</th>\n",
       "      <td>34618</td>\n",
       "      <td>38%</td>\n",
       "      <td>Isle of Man</td>\n",
       "      <td>1.0</td>\n",
       "      <td>f</td>\n",
       "    </tr>\n",
       "    <tr>\n",
       "      <th>3</th>\n",
       "      <td>28619</td>\n",
       "      <td>100%</td>\n",
       "      <td>Bosnia and Herzegovina</td>\n",
       "      <td>1.0</td>\n",
       "      <td>f</td>\n",
       "    </tr>\n",
       "    <tr>\n",
       "      <th>4</th>\n",
       "      <td>8240</td>\n",
       "      <td>NaN</td>\n",
       "      <td>Chile</td>\n",
       "      <td>1.0</td>\n",
       "      <td>t</td>\n",
       "    </tr>\n",
       "  </tbody>\n",
       "</table>\n",
       "</div>"
      ],
      "text/plain": [
       "\n",
       "      id company_rating        company_location  total_fleet_count  \\\n",
       "\u001b[1;36m0\u001b[0m   \u001b[1;36m3888\u001b[0m           \u001b[1;36m100\u001b[0m%             Isle of Man                \u001b[1;36m1.0\u001b[0m   \n",
       "\u001b[1;36m1\u001b[0m  \u001b[1;36m46728\u001b[0m           \u001b[1;36m100\u001b[0m%                     NaN                \u001b[1;36m1.0\u001b[0m   \n",
       "\u001b[1;36m2\u001b[0m  \u001b[1;36m34618\u001b[0m            \u001b[1;36m38\u001b[0m%             Isle of Man                \u001b[1;36m1.0\u001b[0m   \n",
       "\u001b[1;36m3\u001b[0m  \u001b[1;36m28619\u001b[0m           \u001b[1;36m100\u001b[0m%  Bosnia and Herzegovina                \u001b[1;36m1.0\u001b[0m   \n",
       "\u001b[1;36m4\u001b[0m   \u001b[1;36m8240\u001b[0m            NaN                   Chile                \u001b[1;36m1.0\u001b[0m   \n",
       "\n",
       "  iata_approved  \n",
       "\u001b[1;36m0\u001b[0m             f  \n",
       "\u001b[1;36m1\u001b[0m             f  \n",
       "\u001b[1;36m2\u001b[0m             f  \n",
       "\u001b[1;36m3\u001b[0m             f  \n",
       "\u001b[1;36m4\u001b[0m             t  "
      ]
     },
     "execution_count": 17,
     "metadata": {},
     "output_type": "execute_result"
    }
   ],
   "source": [
    "companies = catalog.load(\"companies\")\n",
    "companies.head()"
   ]
  },
  {
   "cell_type": "code",
   "execution_count": 20,
   "id": "1b8100ba",
   "metadata": {},
   "outputs": [],
   "source": [
    "import pandas as pd \n",
    "\n",
    "def _is_true(x: pd.Series) -> pd.Series: \n",
    "    \"\"\"Convert t/f values to their corresponding Boolean value (True or False)\"\"\"\n",
    "    return x == \"t\""
   ]
  },
  {
   "cell_type": "code",
   "execution_count": 33,
   "id": "f0bca616",
   "metadata": {},
   "outputs": [],
   "source": [
    "def _parse_percentage(x: pd.Series) -> pd.Series: \n",
    "    \"\"\"Convert percentage values to its corresponding numerical representation\"\"\"\n",
    "    return x.str.replace(\"%\", \"\").astype(float)"
   ]
  },
  {
   "cell_type": "code",
   "execution_count": 35,
   "id": "48dd3ba2",
   "metadata": {},
   "outputs": [],
   "source": [
    "def _parse_money(x: pd.Series) -> pd.Series:\n",
    "    \"\"\"Convert money to numerical representation\"\"\"\n",
    "    return x.str.replace(\"$\", \"\").str.replace(\",\", \"\").astype(float)"
   ]
  },
  {
   "cell_type": "code",
   "execution_count": 30,
   "id": "a4f8feed",
   "metadata": {},
   "outputs": [
    {
     "data": {
      "text/html": [
       "<pre style=\"white-space:pre;overflow-x:auto;line-height:normal;font-family:Menlo,'DejaVu Sans Mono',consolas,'Courier New',monospace\"></pre>\n"
      ],
      "text/plain": []
     },
     "metadata": {},
     "output_type": "display_data"
    },
    {
     "data": {
      "text/plain": [
       "\n",
       "id                     int64\n",
       "company_rating       float64\n",
       "company_location      object\n",
       "total_fleet_count    float64\n",
       "iata_approved           bool\n",
       "dtype: object"
      ]
     },
     "execution_count": 30,
     "metadata": {},
     "output_type": "execute_result"
    }
   ],
   "source": [
    "companies.dtypes"
   ]
  },
  {
   "cell_type": "code",
   "execution_count": 27,
   "id": "e79c2745",
   "metadata": {},
   "outputs": [],
   "source": [
    "companies[\"company_rating\"] = _parse_percentage(companies[\"company_rating\"])"
   ]
  },
  {
   "cell_type": "code",
   "execution_count": 22,
   "id": "7d485eeb",
   "metadata": {},
   "outputs": [],
   "source": [
    "companies[\"iata_approved\"] = _is_true(companies[\"iata_approved\"])"
   ]
  },
  {
   "cell_type": "code",
   "execution_count": 19,
   "id": "5cdb50e2",
   "metadata": {},
   "outputs": [
    {
     "data": {
      "text/html": [
       "<pre style=\"white-space:pre;overflow-x:auto;line-height:normal;font-family:Menlo,'DejaVu Sans Mono',consolas,'Courier New',monospace\"><span style=\"color: #7fbfbf; text-decoration-color: #7fbfbf\">[03/18/24 09:12:51] </span><span style=\"color: #000080; text-decoration-color: #000080\">INFO    </span> Loading data from <span style=\"color: #ff8700; text-decoration-color: #ff8700\">shuttles</span> <span style=\"font-weight: bold\">(</span>ExcelDataset<span style=\"font-weight: bold\">)</span><span style=\"color: #808000; text-decoration-color: #808000\">...</span>                       <a href=\"file://c:\\Users\\daniel.manabat\\Work\\side-projects\\.venv\\Lib\\site-packages\\kedro\\io\\data_catalog.py\" target=\"_blank\"><span style=\"color: #7f7f7f; text-decoration-color: #7f7f7f\">data_catalog.py</span></a><span style=\"color: #7f7f7f; text-decoration-color: #7f7f7f\">:</span><a href=\"file://c:\\Users\\daniel.manabat\\Work\\side-projects\\.venv\\Lib\\site-packages\\kedro\\io\\data_catalog.py#483\" target=\"_blank\"><span style=\"color: #7f7f7f; text-decoration-color: #7f7f7f\">483</span></a>\n",
       "</pre>\n"
      ],
      "text/plain": [
       "\u001b[2;36m[03/18/24 09:12:51]\u001b[0m\u001b[2;36m \u001b[0m\u001b[34mINFO    \u001b[0m Loading data from \u001b[38;5;208mshuttles\u001b[0m \u001b[1m(\u001b[0mExcelDataset\u001b[1m)\u001b[0m\u001b[33m...\u001b[0m                       \u001b]8;id=625502;file://c:\\Users\\daniel.manabat\\Work\\side-projects\\.venv\\Lib\\site-packages\\kedro\\io\\data_catalog.py\u001b\\\u001b[2mdata_catalog.py\u001b[0m\u001b]8;;\u001b\\\u001b[2m:\u001b[0m\u001b]8;id=314262;file://c:\\Users\\daniel.manabat\\Work\\side-projects\\.venv\\Lib\\site-packages\\kedro\\io\\data_catalog.py#483\u001b\\\u001b[2m483\u001b[0m\u001b]8;;\u001b\\\n"
      ]
     },
     "metadata": {},
     "output_type": "display_data"
    }
   ],
   "source": [
    "shuttles = catalog.load(\"shuttles\")"
   ]
  },
  {
   "cell_type": "code",
   "execution_count": 24,
   "id": "92adf0a8",
   "metadata": {},
   "outputs": [],
   "source": [
    "shuttles['d_check_complete'] = _is_true(shuttles['d_check_complete'])\n",
    "shuttles['moon_clearance_complete'] = _is_true(shuttles['moon_clearance_complete'])"
   ]
  },
  {
   "cell_type": "code",
   "execution_count": 36,
   "id": "0eb87d9c",
   "metadata": {},
   "outputs": [],
   "source": [
    "shuttles['price'] = _parse_money(shuttles['price'])"
   ]
  },
  {
   "cell_type": "code",
   "execution_count": 38,
   "id": "4cfd4a8c",
   "metadata": {},
   "outputs": [
    {
     "data": {
      "text/html": [
       "<pre style=\"white-space:pre;overflow-x:auto;line-height:normal;font-family:Menlo,'DejaVu Sans Mono',consolas,'Courier New',monospace\"></pre>\n"
      ],
      "text/plain": []
     },
     "metadata": {},
     "output_type": "display_data"
    },
    {
     "data": {
      "text/plain": [
       "\n",
       "id                           int64\n",
       "shuttle_location            object\n",
       "shuttle_type                object\n",
       "engine_type                 object\n",
       "engine_vendor               object\n",
       "engines                    float64\n",
       "passenger_capacity           int64\n",
       "cancellation_policy         object\n",
       "crew                       float64\n",
       "d_check_complete              bool\n",
       "moon_clearance_complete       bool\n",
       "price                      float64\n",
       "company_id                   int64\n",
       "dtype: object"
      ]
     },
     "execution_count": 38,
     "metadata": {},
     "output_type": "execute_result"
    }
   ],
   "source": [
    "shuttles.dtypes"
   ]
  },
  {
   "cell_type": "code",
   "execution_count": 37,
   "id": "5d59045b",
   "metadata": {},
   "outputs": [
    {
     "data": {
      "text/html": [
       "<pre style=\"white-space:pre;overflow-x:auto;line-height:normal;font-family:Menlo,'DejaVu Sans Mono',consolas,'Courier New',monospace\"></pre>\n"
      ],
      "text/plain": []
     },
     "metadata": {},
     "output_type": "display_data"
    },
    {
     "data": {
      "text/html": [
       "<div>\n",
       "<style scoped>\n",
       "    .dataframe tbody tr th:only-of-type {\n",
       "        vertical-align: middle;\n",
       "    }\n",
       "\n",
       "    .dataframe tbody tr th {\n",
       "        vertical-align: top;\n",
       "    }\n",
       "\n",
       "    .dataframe thead th {\n",
       "        text-align: right;\n",
       "    }\n",
       "</style>\n",
       "<table border=\"1\" class=\"dataframe\">\n",
       "  <thead>\n",
       "    <tr style=\"text-align: right;\">\n",
       "      <th></th>\n",
       "      <th>id</th>\n",
       "      <th>shuttle_location</th>\n",
       "      <th>shuttle_type</th>\n",
       "      <th>engine_type</th>\n",
       "      <th>engine_vendor</th>\n",
       "      <th>engines</th>\n",
       "      <th>passenger_capacity</th>\n",
       "      <th>cancellation_policy</th>\n",
       "      <th>crew</th>\n",
       "      <th>d_check_complete</th>\n",
       "      <th>moon_clearance_complete</th>\n",
       "      <th>price</th>\n",
       "      <th>company_id</th>\n",
       "    </tr>\n",
       "  </thead>\n",
       "  <tbody>\n",
       "    <tr>\n",
       "      <th>0</th>\n",
       "      <td>45163</td>\n",
       "      <td>Sao Tome and Principe</td>\n",
       "      <td>Type V5</td>\n",
       "      <td>Plasma</td>\n",
       "      <td>ThetaBase Services</td>\n",
       "      <td>2.0</td>\n",
       "      <td>4</td>\n",
       "      <td>moderate</td>\n",
       "      <td>2.0</td>\n",
       "      <td>False</td>\n",
       "      <td>False</td>\n",
       "      <td>1715.0</td>\n",
       "      <td>32413</td>\n",
       "    </tr>\n",
       "    <tr>\n",
       "      <th>1</th>\n",
       "      <td>49438</td>\n",
       "      <td>Wallis and Futuna</td>\n",
       "      <td>Type V2</td>\n",
       "      <td>Plasma</td>\n",
       "      <td>ThetaBase Services</td>\n",
       "      <td>3.0</td>\n",
       "      <td>5</td>\n",
       "      <td>moderate</td>\n",
       "      <td>3.0</td>\n",
       "      <td>False</td>\n",
       "      <td>False</td>\n",
       "      <td>3405.0</td>\n",
       "      <td>14122</td>\n",
       "    </tr>\n",
       "    <tr>\n",
       "      <th>2</th>\n",
       "      <td>10750</td>\n",
       "      <td>Niue</td>\n",
       "      <td>Type F5</td>\n",
       "      <td>Quantum</td>\n",
       "      <td>ThetaBase Services</td>\n",
       "      <td>1.0</td>\n",
       "      <td>2</td>\n",
       "      <td>strict</td>\n",
       "      <td>1.0</td>\n",
       "      <td>True</td>\n",
       "      <td>False</td>\n",
       "      <td>1806.0</td>\n",
       "      <td>47761</td>\n",
       "    </tr>\n",
       "    <tr>\n",
       "      <th>3</th>\n",
       "      <td>4146</td>\n",
       "      <td>Malta</td>\n",
       "      <td>Type V2</td>\n",
       "      <td>Quantum</td>\n",
       "      <td>ThetaBase Services</td>\n",
       "      <td>1.0</td>\n",
       "      <td>2</td>\n",
       "      <td>moderate</td>\n",
       "      <td>1.0</td>\n",
       "      <td>False</td>\n",
       "      <td>False</td>\n",
       "      <td>1676.0</td>\n",
       "      <td>26648</td>\n",
       "    </tr>\n",
       "    <tr>\n",
       "      <th>4</th>\n",
       "      <td>5067</td>\n",
       "      <td>Malta</td>\n",
       "      <td>Type V2</td>\n",
       "      <td>Plasma</td>\n",
       "      <td>ThetaBase Services</td>\n",
       "      <td>5.0</td>\n",
       "      <td>10</td>\n",
       "      <td>strict</td>\n",
       "      <td>5.0</td>\n",
       "      <td>False</td>\n",
       "      <td>False</td>\n",
       "      <td>4718.0</td>\n",
       "      <td>26648</td>\n",
       "    </tr>\n",
       "  </tbody>\n",
       "</table>\n",
       "</div>"
      ],
      "text/plain": [
       "\n",
       "      id       shuttle_location shuttle_type engine_type       engine_vendor  \\\n",
       "\u001b[1;36m0\u001b[0m  \u001b[1;36m45163\u001b[0m  Sao Tome and Principe      Type V5      Plasma  ThetaBase Services   \n",
       "\u001b[1;36m1\u001b[0m  \u001b[1;36m49438\u001b[0m      Wallis and Futuna      Type V2      Plasma  ThetaBase Services   \n",
       "\u001b[1;36m2\u001b[0m  \u001b[1;36m10750\u001b[0m                   Niue      Type F5     Quantum  ThetaBase Services   \n",
       "\u001b[1;36m3\u001b[0m   \u001b[1;36m4146\u001b[0m                  Malta      Type V2     Quantum  ThetaBase Services   \n",
       "\u001b[1;36m4\u001b[0m   \u001b[1;36m5067\u001b[0m                  Malta      Type V2      Plasma  ThetaBase Services   \n",
       "\n",
       "   engines  passenger_capacity cancellation_policy  crew  d_check_complete  \\\n",
       "\u001b[1;36m0\u001b[0m      \u001b[1;36m2.0\u001b[0m                   \u001b[1;36m4\u001b[0m            moderate   \u001b[1;36m2.0\u001b[0m             \u001b[3;91mFalse\u001b[0m   \n",
       "\u001b[1;36m1\u001b[0m      \u001b[1;36m3.0\u001b[0m                   \u001b[1;36m5\u001b[0m            moderate   \u001b[1;36m3.0\u001b[0m             \u001b[3;91mFalse\u001b[0m   \n",
       "\u001b[1;36m2\u001b[0m      \u001b[1;36m1.0\u001b[0m                   \u001b[1;36m2\u001b[0m              strict   \u001b[1;36m1.0\u001b[0m              \u001b[3;92mTrue\u001b[0m   \n",
       "\u001b[1;36m3\u001b[0m      \u001b[1;36m1.0\u001b[0m                   \u001b[1;36m2\u001b[0m            moderate   \u001b[1;36m1.0\u001b[0m             \u001b[3;91mFalse\u001b[0m   \n",
       "\u001b[1;36m4\u001b[0m      \u001b[1;36m5.0\u001b[0m                  \u001b[1;36m10\u001b[0m              strict   \u001b[1;36m5.0\u001b[0m             \u001b[3;91mFalse\u001b[0m   \n",
       "\n",
       "   moon_clearance_complete   price  company_id  \n",
       "\u001b[1;36m0\u001b[0m                    \u001b[3;91mFalse\u001b[0m  \u001b[1;36m1715.0\u001b[0m       \u001b[1;36m32413\u001b[0m  \n",
       "\u001b[1;36m1\u001b[0m                    \u001b[3;91mFalse\u001b[0m  \u001b[1;36m3405.0\u001b[0m       \u001b[1;36m14122\u001b[0m  \n",
       "\u001b[1;36m2\u001b[0m                    \u001b[3;91mFalse\u001b[0m  \u001b[1;36m1806.0\u001b[0m       \u001b[1;36m47761\u001b[0m  \n",
       "\u001b[1;36m3\u001b[0m                    \u001b[3;91mFalse\u001b[0m  \u001b[1;36m1676.0\u001b[0m       \u001b[1;36m26648\u001b[0m  \n",
       "\u001b[1;36m4\u001b[0m                    \u001b[3;91mFalse\u001b[0m  \u001b[1;36m4718.0\u001b[0m       \u001b[1;36m26648\u001b[0m  "
      ]
     },
     "execution_count": 37,
     "metadata": {},
     "output_type": "execute_result"
    }
   ],
   "source": [
    "shuttles.head()"
   ]
  },
  {
   "cell_type": "code",
   "execution_count": null,
   "id": "68c1663e",
   "metadata": {},
   "outputs": [],
   "source": []
  }
 ],
 "metadata": {
  "kernelspec": {
   "display_name": "Python 3 (ipykernel)",
   "language": "python",
   "name": "python3"
  },
  "language_info": {
   "codemirror_mode": {
    "name": "ipython",
    "version": 3
   },
   "file_extension": ".py",
   "mimetype": "text/x-python",
   "name": "python",
   "nbconvert_exporter": "python",
   "pygments_lexer": "ipython3",
   "version": "3.11.8"
  }
 },
 "nbformat": 4,
 "nbformat_minor": 5
}
